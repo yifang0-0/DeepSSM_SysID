{
 "cells": [
  {
   "cell_type": "code",
   "execution_count": null,
   "metadata": {},
   "outputs": [],
   "source": []
  },
  {
   "cell_type": "markdown",
   "metadata": {},
   "source": [
    "## all command"
   ]
  },
  {
   "cell_type": "markdown",
   "metadata": {},
   "source": [
    "#### industial robotic arm dataset"
   ]
  },
  {
   "cell_type": "markdown",
   "metadata": {},
   "source": [
    "##### baseline"
   ]
  },
  {
   "cell_type": "code",
   "execution_count": null,
   "metadata": {
    "vscode": {
     "languageId": "bat"
    }
   },
   "outputs": [],
   "source": [
    "nohup python main_single.py --n_epoch=500 --model='AE-RNN' --h_dim=10 --z_dim=2 --dataset='industrobo' --logdir='test_industrobo_dim6'  --mpnt_wt=-1  --do_test   --do_train --u_dim=6 --y_dim=6 &\n",
    "nohup python main_single.py --n_epoch=500 --model='AE-RNN' --h_dim=20 --z_dim=2 --dataset='industrobo' --logdir='test_industrobo_dim6'  --mpnt_wt=-1  --do_test   --do_train --u_dim=6 --y_dim=6 &\n",
    "nohup python main_single.py --n_epoch=500 --model='AE-RNN' --h_dim=40 --z_dim=2 --dataset='industrobo' --logdir='test_industrobo_dim6'  --mpnt_wt=-1  --do_test   --do_train --u_dim=6 --y_dim=6 &\n",
    "nohup python main_single.py --n_epoch=500 --model='AE-RNN' --h_dim=60 --z_dim=2 --dataset='industrobo' --logdir='test_industrobo_dim6'  --mpnt_wt=-1  --do_test   --do_train --u_dim=6 --y_dim=6 &\n",
    "nohup python main_single.py --n_epoch=500 --model='AE-RNN' --h_dim=80 --z_dim=5 --dataset='industrobo' --logdir='test_industrobo_dim6'  --mpnt_wt=-1  --do_test   --do_train --u_dim=6 --y_dim=6 &\n",
    "nohup python main_single.py --n_epoch=500 --model='AE-RNN' --h_dim=100 --z_dim=2 --dataset='industrobo' --logdir='test_industrobo_dim6'  --mpnt_wt=-1  --do_test   --do_train --u_dim=6 --y_dim=6 &\n",
    "\n",
    " python main_single.py --n_epoch=5 --model='AE-RNN' --h_dim=20 --z_dim=2 --dataset='industrobo' --logdir='test_industrobo_6dim'  --mpnt_wt=-1  --do_test  --do_train --u_dim=6 --y_dim=6\n",
    " python main_single.py --n_epoch=5 --model='AE-RNN' --h_dim=20 --z_dim=2 --dataset='industrobo' --logdir='test_industrobo_6dim'  --mpnt_wt=-1  --do_test  --u_dim=6 --y_dim=6\n"
   ]
  },
  {
   "cell_type": "code",
   "execution_count": null,
   "metadata": {
    "vscode": {
     "languageId": "bat"
    }
   },
   "outputs": [],
   "source": []
  },
  {
   "cell_type": "markdown",
   "metadata": {},
   "source": [
    "#### toy dataset\n"
   ]
  },
  {
   "cell_type": "markdown",
   "metadata": {},
   "source": [
    "nohup python main_single.py --n_epoch=750 --model='VAE-RNN-PHYNN' --h_dim=20 --z_dim=2 --dataset='toy_lgssm_5_pre' --logdir='test'  --mpnt_wt=200  --A_prt=0 --B_prt=0 --do_test --do_train &"
   ]
  },
  {
   "cell_type": "code",
   "execution_count": null,
   "metadata": {
    "vscode": {
     "languageId": "bat"
    }
   },
   "outputs": [],
   "source": [
    "nohup python main_single.py --n_epoch=750 --model='AE-RNN' --h_dim=10 --z_dim=2 --dataset='industrobo' --logdir='test_industrobo_dim6'  --mpnt_wt=-1  --do_test   --do_train --u_dim=6 --y_dim=6 &\n",
    "nohup python main_single.py --n_epoch=750 --model='VAE-RNN-PHYNN' --h_dim=20 --z_dim=2 --dataset='toy_lgssm_5_pre' --logdir='test'  --mpnt_wt=0  --A_prt=0 --B_prt=0 --do_test --do_train &\n",
    "nohup python main_single.py --n_epoch=750 --model='AE-RNN' --h_dim=40 --z_dim=2 --dataset='industrobo' --logdir='test_industrobo_dim6'  --mpnt_wt=-1  --do_test   --do_train --u_dim=6 --y_dim=6 &\n",
    "nohup python main_single.py --n_epoch=750 --model='AE-RNN' --h_dim=60 --z_dim=2 --dataset='industrobo' --logdir='test_industrobo_dim6'  --mpnt_wt=-1  --do_test   --do_train --u_dim=6 --y_dim=6 &\n",
    "nohup python main_single.py --n_epoch=750 --model='AE-RNN' --h_dim=80 --z_dim=5 --dataset='industrobo' --logdir='test_industrobo_dim6'  --mpnt_wt=-1  --do_test   --do_train --u_dim=6 --y_dim=6 &\n",
    "nohup python main_single.py --n_epoch=750 --model='AE-RNN' --h_dim=100 --z_dim=2 --dataset='industrobo' --logdir='test_industrobo_dim6'  --mpnt_wt=-1  --do_test   --do_train --u_dim=6 --y_dim=6 &\n"
   ]
  }
 ],
 "metadata": {
  "language_info": {
   "name": "python"
  }
 },
 "nbformat": 4,
 "nbformat_minor": 2
}
