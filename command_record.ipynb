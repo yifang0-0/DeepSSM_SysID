{
 "cells": [
  {
   "cell_type": "code",
   "execution_count": null,
   "metadata": {},
   "outputs": [],
   "source": []
  },
  {
   "cell_type": "markdown",
   "metadata": {},
   "source": [
    "## all command"
   ]
  },
  {
   "cell_type": "markdown",
   "metadata": {},
   "source": [
    "#### industial robotic arm dataset"
   ]
  },
  {
   "cell_type": "markdown",
   "metadata": {},
   "source": [
    "##### baseline"
   ]
  },
  {
   "cell_type": "markdown",
   "metadata": {},
   "source": [
    "nohup python main_single.py --n_epoch=500 --model='AE-RNN' --h_dim=20 --z_dim=2 --dataset='industrobo' --logdir='test_industrobo'  --mpnt_wt=-1  --do_test --do_train --train_rounds=6 &\n",
    "nohup python main_single.py --n_epoch=500 --model='AE-RNN' --h_dim=40 --z_dim=2 --dataset='industrobo' --logdir='test_industrobo'  --mpnt_wt=-1  --do_test --do_train --train_rounds=6 &\n",
    "nohup python main_single.py --n_epoch=500 --model='AE-RNN' --h_dim=60 --z_dim=2 --dataset='industrobo' --logdir='test_industrobo'  --mpnt_wt=-1  --do_test --do_train --train_rounds=6 &\n",
    "nohup python main_single.py --n_epoch=500 --model='AE-RNN' --h_dim=80 --z_dim=1 --dataset='industrobo' --logdir='test_industrobo'  --mpnt_wt=-1  --do_test --do_train --train_rounds=6 &\n",
    "nohup python main_single.py --n_epoch=500 --model='AE-RNN' --h_dim=100 --z_dim=2 --dataset='industrobo' --logdir='test_industrobo'  --mpnt_wt=-1  --do_test --do_train --train_rounds=6 &\n"
   ]
  }
 ],
 "metadata": {
  "language_info": {
   "name": "python"
  }
 },
 "nbformat": 4,
 "nbformat_minor": 2
}
