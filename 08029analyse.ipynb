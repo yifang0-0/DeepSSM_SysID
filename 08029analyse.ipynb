{
 "cells": [
  {
   "cell_type": "markdown",
   "metadata": {},
   "source": [
    "### new experiment plan\n",
    "1. for baseline model (robo arm with kuka 300 model), train them with 3 different settings (dim = 20, 40, 60)\n",
    "2. compare performance on simulated dataset with 3 knowledge level (nrmse=0.26,1.05,3.51), and find the best\n",
    "3. retrain model with different dataset length (5, 10, 20, 50, 100 percent) (first only on the dim=20 and perfect situation)\n",
    "\n",
    "simulated dataset"
   ]
  },
  {
   "cell_type": "code",
   "execution_count": 14,
   "metadata": {},
   "outputs": [],
   "source": [
    "name = [\"PHY\",\"NN\",\"PA\",\"PG\"]\n",
    "no_cliping_puma_sim_20 = []\n",
    "no_cliping_sim_20 = []\n",
    "base_line_sim_20 = []\n",
    "#no clipping puma\n",
    "no_cliping_puma_sim_20.append((2.4750723838806152+8.834235191345215+3.0340723991394043+1.9333478212356567+2.5913586616516113+2.1988091468811035)/6)\n",
    "no_cliping_puma_sim_20.append( (1.017+0.467+0.622+1.081+1.050+0.963)/6)\n",
    "\n",
    "# no_cliping_puma_sim.append((2.4750723838806152+8.834235191345215+3.0340723991394043+1.9333478212356567+2.5913586616516113+2.1988091468811035)/6)\n",
    "\n",
    "\n",
    "#no clipping \n",
    "no_cliping_sim_20.append( (1.001528263092041+1.057594656944275+1.2659090757369995+1.016860008239746+1.0051116943359375+1.0019780397415161)/6)\n",
    "no_cliping_sim_20.append( (1.017+0.467+0.622+1.081+1.050+0.963)/6)\n",
    "\n",
    "# baseline\n",
    "base_line_sim_20.append( (0.3939228951931+0.10534291714429855+0.0944225862622261+0.42155104875564575+0.18042665719985962+0.36464402079582214)/6)\n",
    "base_line_sim_20.append( (1.017+0.467+0.622+1.081+1.050+0.963)/6)\n",
    "base_line_sim_20.append( (0.382+0.192+0.197+0.946+0.589+0.507)/6)\n",
    "base_line_sim_20.append( (1.015+0.455+0.516+0.986+1.073+1.014)/6)\n",
    "\n",
    "\n"
   ]
  },
  {
   "cell_type": "code",
   "execution_count": 15,
   "metadata": {},
   "outputs": [
    {
     "data": {
      "text/plain": [
       "[0.260051687558492, 0.8666666666666667, 0.4688333333333334, 0.8431666666666667]"
      ]
     },
     "execution_count": 15,
     "metadata": {},
     "output_type": "execute_result"
    }
   ],
   "source": [
    "base_line_sim"
   ]
  },
  {
   "cell_type": "code",
   "execution_count": 12,
   "metadata": {},
   "outputs": [],
   "source": [
    "name = [\"PHY\",\"NN\",\"PA\",\"PG\"]\n",
    "no_cliping_puma_20= []\n",
    "no_cliping_20= []\n",
    "base_line_20= []\n",
    "#no clipping puma\n",
    "no_cliping_puma_20.append((2.4750723838806152+8.834235191345215+3.0340723991394043+1.9333478212356567+2.5913586616516113+2.1988091468811035)/6)\n",
    "no_cliping_puma_20.append((0.948073+0.871381+0.807969+1.076690+1.031983+0.970418)/6)\n",
    "\n",
    "# no_cliping_puma.append((2.4750723838806152+8.834235191345215+3.0340723991394043+1.9333478212356567+2.5913586616516113+2.1988091468811035)/6)\n",
    "\n",
    "\n",
    "#no clipping \n",
    "no_cliping_20.append( (1.001528263092041+1.057594656944275+1.2659090757369995+1.016860008239746+1.0051116943359375+1.0019780397415161)/6)\n",
    "no_cliping_20.append((0.948073+0.871381+0.807969+1.076690+1.031983+0.970418)/6)\n",
    "\n",
    "# baseline\n",
    "base_line_20.append( (2.577582+1.000568+1.656918+3.439385+3.512362+2.734686)/6)\n",
    "base_line_20.append((0.948073+0.871381+0.807969+1.076690+1.031983+0.970418)/6)\n",
    "base_line_20.append((0.932002+0.985688+0.823186+1.091607+0.900247+0.907954)/6)\n",
    "base_line_20.append((0.997504+0.772878+0.645135+1.021851+0.939004+1.021627)/6)"
   ]
  },
  {
   "cell_type": "code",
   "execution_count": 13,
   "metadata": {},
   "outputs": [
    {
     "data": {
      "text/plain": [
       "[2.4869168333333334, 0.9510856666666667, 0.940114, 0.8996665]"
      ]
     },
     "execution_count": 13,
     "metadata": {},
     "output_type": "execute_result"
    }
   ],
   "source": [
    "base_line"
   ]
  },
  {
   "cell_type": "code",
   "execution_count": null,
   "metadata": {},
   "outputs": [],
   "source": []
  }
 ],
 "metadata": {
  "kernelspec": {
   "display_name": "deepsys",
   "language": "python",
   "name": "python3"
  },
  "language_info": {
   "codemirror_mode": {
    "name": "ipython",
    "version": 3
   },
   "file_extension": ".py",
   "mimetype": "text/x-python",
   "name": "python",
   "nbconvert_exporter": "python",
   "pygments_lexer": "ipython3",
   "version": "3.11.3"
  }
 },
 "nbformat": 4,
 "nbformat_minor": 2
}
