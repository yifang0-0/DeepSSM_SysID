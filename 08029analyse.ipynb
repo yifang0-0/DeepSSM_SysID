{
 "cells": [
  {
   "cell_type": "markdown",
   "metadata": {},
   "source": [
    "### new experiment plan\n",
    "1. for baseline model (robo arm with kuka 300 model), train them with 3 different settings (dim = 20, 40, 60)\n",
    "_finished:_ d_60 has the minimum average nrmse over nn,pg,pa. So It would be trained in the future\n",
    "\n",
    "2. compare performance on simulated dataset with 3 knowledge level (nrmse=0.26,1.05,3.51), and find the best\n",
    "\n",
    "3. retrain model with different dataset length (5, 10, 20, 50, 100 percent) (first only on the dim=20 and perfect situation)\n",
    "\n",
    "4. al the mentioned experiment repeat for 5-10 times\n",
    "simulated dataset"
   ]
  },
  {
   "cell_type": "markdown",
   "metadata": {},
   "source": [
    "import numpy as np"
   ]
  },
  {
   "cell_type": "code",
   "execution_count": 5,
   "metadata": {},
   "outputs": [],
   "source": [
    "import numpy as np"
   ]
  },
  {
   "cell_type": "code",
   "execution_count": 9,
   "metadata": {},
   "outputs": [],
   "source": [
    "name = [\"PHY\",\"NN\",\"PA\",\"PG\"]\n",
    "no_cliping_puma_sim_20 = []\n",
    "no_cliping_sim_20 = []\n",
    "base_line_sim_20 = []\n",
    "base_line_sim_40 = []\n",
    "base_line_sim_60 = []\n",
    "clip_sim_60 = []\n",
    "clip_puma_sim_60 = []\n",
    "\n",
    "clip_sim_20 = []\n",
    "clip_puma_sim_20 = []\n",
    "\n",
    "\n",
    "#no clipping puma\n",
    "no_cliping_puma_sim_20.append((2.4750723838806152+8.834235191345215+3.0340723991394043+1.9333478212356567+2.5913586616516113+2.1988091468811035)/6)\n",
    "no_cliping_puma_sim_20.append( (1.017+0.467+0.622+1.081+1.050+0.963)/6)\n",
    "\n",
    "# no_cliping_puma_sim.append((2.4750723838806152+8.834235191345215+3.0340723991394043+1.9333478212356567+2.5913586616516113+2.1988091468811035)/6)\n",
    "\n",
    "\n",
    "#no clipping \n",
    "no_cliping_sim_20.append( (1.001528263092041+1.057594656944275+1.2659090757369995+1.016860008239746+1.0051116943359375+1.0019780397415161)/6)\n",
    "no_cliping_sim_20.append( (1.017+0.467+0.622+1.081+1.050+0.963)/6)\n",
    "\n",
    "# baseline\n",
    "base_line_sim_20.append( (0.3939228951931+0.10534291714429855+0.0944225862622261+0.42155104875564575+0.18042665719985962+0.36464402079582214)/6)\n",
    "base_line_sim_20.append( (1.017+0.467+0.622+1.081+1.050+0.963)/6)\n",
    "base_line_sim_20.append( (0.382+0.192+0.197+0.946+0.589+0.507)/6)\n",
    "base_line_sim_20.append( (1.015+0.455+0.516+0.986+1.073+1.014)/6)\n",
    "\n",
    "# baseline\n",
    "base_line_sim_40.append( (0.3939228951931+0.10534291714429855+0.0944225862622261+0.42155104875564575+0.18042665719985962+0.36464402079582214)/6)\n",
    "base_line_sim_40.append( (0.971852+0.530250+0.512875+1.215539+0.816088+1.085796)/6)\n",
    "base_line_sim_40.append( (0.434+0.145+0.124+0.920+0.467+0.378)/6)\n",
    "base_line_sim_40.append( (1.004808+0.403153+0.426532+1.117731+0.770309+0.794185)/6)\n",
    "\n",
    "\n",
    "# baseline\n",
    "\n",
    "\n",
    "base_line_sim_60.append( (0.3939228951931+0.10534291714429855+0.0944225862622261+0.42155104875564575+0.18042665719985962+0.36464402079582214)/6)\n",
    "base_line_sim_60.append( (1.069507+0.443482+0.475302+0.926469+0.729481+0.904542)/6)\n",
    "base_line_sim_60.append( (0.402397+0.133562+0.135479+0.728436+0.452369+0.504720)/6)\n",
    "base_line_sim_60.append( (0.960584+0.401504+0.414425+1.310009+0.893596+0.921640)/6)\n",
    "\n",
    "# no cliping d60\n",
    "clip_sim_60.append( (1.001528+1.057595+1.265909+1.016860+1.005112+1.001978)/6)\n",
    "clip_sim_60.append( (0.973058+0.477535+0.504780+1.051539+0.816227+0.921849)/6)\n",
    "clip_sim_60.append( (1.087554+0.522514+1.018010+1.512662+0.802279+1.130129)/6)\n",
    "clip_sim_60.append( (0.985527+0.456964+0.560030+1.108337+0.920272+0.741912)/6)\n",
    "\n",
    "\n",
    "# no clip +puma d60\n",
    "clip_puma_sim_60.append( (2.475072+8.834235+3.034072+1.933348+2.591359+2.198809)/6)\n",
    "clip_puma_sim_60.append( (0.984737+0.452712+0.470775+0.975017+0.736350+0.938871)/6)\n",
    "clip_puma_sim_60.append( (0.989923+0.616068+0.629302+1.062077+0.747715+0.984868)/6)\n",
    "clip_puma_sim_60.append( (1.059047+0.429715+0.485116+1.264169+0.884503+0.729594)/6)\n",
    "\n",
    "\n",
    "# no cliping d20\n",
    "clip_sim_20.append( (1.001528+1.057595+1.265909+1.016860+1.005112+1.001978)/6)\n",
    "clip_sim_20.append( (0.889+0.514+0.498+1.434+0.996+0.887)/6)\n",
    "clip_sim_20.append( (0.700224+0.684801+0.620302+1.162835+0.932316+1.061635)/6)\n",
    "clip_sim_20.append( (0.939062+0.512719+0.623228+1.039268+0.960603+0.948412)/6)\n",
    "\n",
    "\n",
    "# no clip +puma d20\n",
    "clip_puma_sim_20.append( (2.475072+8.834235+3.034072+1.933348+2.591359+2.198809)/6)\n",
    "clip_puma_sim_20.append( (0.889+0.514+0.498+1.434+0.996+0.887)/6)\n",
    "clip_puma_sim_20.append( (1.027343+0.840075+0.662061+1.189172+0.834560+0.919177)/6)\n",
    "clip_puma_sim_20.append( (1.001118+0.447412+0.444731+1.053918+1.084504+0.979070)/6)"
   ]
  },
  {
   "cell_type": "code",
   "execution_count": 10,
   "metadata": {},
   "outputs": [
    {
     "name": "stdout",
     "output_type": "stream",
     "text": [
      "[0.260051687558492, 0.8666666666666667, 0.4688333333333334, 0.8431666666666667]\n",
      "[0.260051687558492, 0.8553999999999999, 0.41133333333333333, 0.7527863333333333]\n",
      "[0.260051687558492, 0.7581305, 0.39282716666666667, 0.8169596666666666]\n",
      "0.6096795885562897 0.5698928385562896 0.5569922552229564\n"
     ]
    }
   ],
   "source": [
    "print(base_line_sim_20)\n",
    "print(base_line_sim_40)\n",
    "print(base_line_sim_60)\n",
    "print(np.mean(base_line_sim_20),np.mean(base_line_sim_40),np.mean(base_line_sim_60))"
   ]
  },
  {
   "cell_type": "code",
   "execution_count": 14,
   "metadata": {},
   "outputs": [
    {
     "name": "stdout",
     "output_type": "stream",
     "text": [
      "[0.260051687558492, 0.7581305, 0.39282716666666667, 0.8169596666666666]\n",
      "[1.0581636666666667, 0.7908313333333333, 1.0121913333333332, 0.7955069999999999]\n",
      "[3.511149166666667, 0.7597436666666666, 0.8383255, 0.8086906666666667]\n",
      "\n",
      "ase_line_sim_60    clip_sim_60       clip_puma_sim_60\n",
      "with nn 0.5569922552229564 0.9141733333333333 1.47947725\n",
      "without nn 0.6559724444444445 0.8661765555555555 0.8022532777777777\n"
     ]
    }
   ],
   "source": [
    "print(base_line_sim_60)\n",
    "print(clip_sim_60)\n",
    "print(clip_puma_sim_60)\n",
    "print()\n",
    "print(\"ase_line_sim_60    clip_sim_60       clip_puma_sim_60\")\n",
    "\n",
    "print(\"with nn\", np.mean(base_line_sim_60),np.mean(clip_sim_60),np.mean(clip_puma_sim_60))\n",
    "print(\"without nn\", np.mean(base_line_sim_60[1:]),np.mean(clip_sim_60[1:]),np.mean(clip_puma_sim_60[1:]))\n"
   ]
  },
  {
   "cell_type": "code",
   "execution_count": 25,
   "metadata": {},
   "outputs": [],
   "source": [
    "name = [\"PHY\",\"NN\",\"PA\",\"PG\"]\n",
    "no_cliping_puma_20= []\n",
    "no_cliping_20= []\n",
    "base_line_20= []\n",
    "base_line_40= []\n",
    "base_line_60= []\n",
    "\n",
    "\n",
    "#no clipping puma\n",
    "no_cliping_puma_20.append((2.4750723838806152+8.834235191345215+3.0340723991394043+1.9333478212356567+2.5913586616516113+2.1988091468811035)/6)\n",
    "no_cliping_puma_20.append((0.948073+0.871381+0.807969+1.076690+1.031983+0.970418)/6)\n",
    "\n",
    "# no_cliping_puma.append((2.4750723838806152+8.834235191345215+3.0340723991394043+1.9333478212356567+2.5913586616516113+2.1988091468811035)/6)\n",
    "\n",
    "\n",
    "#no clipping \n",
    "no_cliping_20.append( (1.001528263092041+1.057594656944275+1.2659090757369995+1.016860008239746+1.0051116943359375+1.0019780397415161)/6)\n",
    "no_cliping_20.append((0.948073+0.871381+0.807969+1.076690+1.031983+0.970418)/6)\n",
    "\n",
    "# baseline 20\n",
    "base_line_20.append( (2.577582+1.000568+1.656918+3.439385+3.512362+2.734686)/6)\n",
    "base_line_20.append((0.948073+0.871381+0.807969+1.076690+1.031983+0.970418)/6)\n",
    "base_line_20.append((0.932002+0.985688+0.823186+1.091607+0.900247+0.907954)/6)\n",
    "base_line_20.append((0.997504+0.772878+0.645135+1.021851+0.939004+1.021627)/6)\n",
    "\n",
    "# baseline 40\n",
    "base_line_40.append( (2.577582+1.000568+1.656918+3.439385+3.512362+2.734686)/6)\n",
    "base_line_40.append((1.033795+0.724306+0.668682+1.011491+0.900110+1.039176)/6)\n",
    "base_line_40.append((0.880584+0.840708+0.804825+1.231780+1.036779+1.058430)/6)\n",
    "base_line_40.append((1.022354+0.744647+0.652733+0.964896+0.986969+1.039342)/6)\n",
    "\n",
    "\n",
    "# baseline 60\n",
    "base_line_60.append( (2.577+1.000+1.656+3.439+3.512+2.7346)/6)\n",
    "base_line_60.append((0.782+0.688+0.762+0.915+1.212+1.009)/6)\n",
    "base_line_60.append((0.969+0.987+0.724+0.968+1.019+1.097)/6)\n",
    "base_line_60.append((0.675+0.709+0.746+1.033+0.967+1.063)/6)\n",
    "\n",
    "# 0.782733+0.688777+0.762301+0.915529+1.212106+1.009799"
   ]
  },
  {
   "cell_type": "code",
   "execution_count": 29,
   "metadata": {},
   "outputs": [
    {
     "name": "stdout",
     "output_type": "stream",
     "text": [
      "[2.4869168333333334, 0.9510856666666667, 0.940114, 0.8996665]\n",
      "[2.4869168333333334, 0.89626, 0.9755176666666667, 0.9018234999999999]\n",
      "[2.4864333333333337, 0.8946666666666667, 0.9606666666666666, 0.8654999999999999]\n",
      "1.31944575 1.3151295 1.3018166666666666\n"
     ]
    }
   ],
   "source": [
    "\n",
    "print(base_line_20)\n",
    "print(base_line_40)\n",
    "print(base_line_60)\n",
    "print(np.mean(base_line_20),np.mean(base_line_40),np.mean(base_line_60))"
   ]
  },
  {
   "cell_type": "code",
   "execution_count": null,
   "metadata": {
    "vscode": {
     "languageId": "bat"
    }
   },
   "outputs": [],
   "source": [
    "nohup python main_single.py --n_epoch=100 --model='AE-RNN' --h_dim=40  --dataset='industrobo' --logdir='08028_test_dt01_norm_sim'  --mpnt_wt=-10  --do_test  --do_train --z_dim=12 --u_dim=6 --y_dim=6 --init_lr=1e-2 --dt=0.1  --if_simulation=1  &\n",
    "nohup python main_single.py --n_epoch=100 --model='AE-RNN' --h_dim=40  --dataset='industrobo' --logdir='08028_test_dt01_norm_sim'  --mpnt_wt=-1  --do_test  --do_train --z_dim=12 --u_dim=6 --y_dim=6 --init_lr=1e-2 --dt=0.1  --if_simulation=1  &\n",
    "nohup python main_single.py --n_epoch=100 --model='AE-RNN' --h_dim=40  --dataset='industrobo' --logdir='08028_test_dt01_norm_sim'  --mpnt_wt=10  --do_test  --do_train --z_dim=12 --u_dim=6 --y_dim=6 --init_lr=1e-2 --dt=0.1  --if_simulation=1  &\n",
    "\n",
    "nohup python main_single.py --n_epoch=100 --model='AE-RNN' --h_dim=60  --dataset='industrobo' --logdir='08028_test_dt01_norm_sim'  --mpnt_wt=-10  --do_test  --do_train --z_dim=12 --u_dim=6 --y_dim=6 --init_lr=1e-2 --dt=0.1  --if_simulation=1  &\n",
    "nohup python main_single.py --n_epoch=100 --model='AE-RNN' --h_dim=60  --dataset='industrobo' --logdir='08028_test_dt01_norm_sim'  --mpnt_wt=-1  --do_test  --do_train --z_dim=12 --u_dim=6 --y_dim=6 --init_lr=1e-2 --dt=0.1  --if_simulation=1  &\n",
    "nohup python main_single.py --n_epoch=100 --model='AE-RNN' --h_dim=60  --dataset='industrobo' --logdir='08028_test_dt01_norm_sim'  --mpnt_wt=10  --do_test  --do_train --z_dim=12 --u_dim=6 --y_dim=6 --init_lr=1e-2 --dt=0.1  --if_simulation=1  &\n",
    "\n",
    "nohup python main_single.py --n_epoch=100 --model='AE-RNN' --h_dim=20  --dataset='industrobo' --logdir='08028_test_dt01_norm_sim_noclip_noG'  --mpnt_wt=1000  --do_test  --do_train --z_dim=12 --u_dim=6 --y_dim=6 --init_lr=1e-2 --dt=0.1 --if_simulation=1 --if_clip=0 --if_G=0   & \n"
   ]
  },
  {
   "cell_type": "code",
   "execution_count": null,
   "metadata": {
    "vscode": {
     "languageId": "bat"
    }
   },
   "outputs": [],
   "source": [
    "\n",
    "nohup python main_single.py --n_epoch=200 --model='AE-RNN' --h_dim=60  --dataset='industrobo' --logdir='08028_test_dt01_norm_sim'  --mpnt_wt=-10  --do_test  --do_train --z_dim=12 --u_dim=6 --y_dim=6 --init_lr=1e-2 --dt=0.1  --if_simulation=1  &\n",
    "nohup python main_single.py --n_epoch=500 --model='AE-RNN' --h_dim=60  --dataset='industrobo' --logdir='08028_test_dt01_norm_sim'  --mpnt_wt=-1  --do_test  --do_train --z_dim=12 --u_dim=6 --y_dim=6 --init_lr=1e-2 --dt=0.1  --if_simulation=1  &\n",
    "nohup python main_single.py --n_epoch=200 --model='AE-RNN' --h_dim=60  --dataset='industrobo' --logdir='08028_test_dt01_norm_sim'  --mpnt_wt=10  --do_test  --do_train --z_dim=12 --u_dim=6 --y_dim=6 --init_lr=1e-2 --dt=0.1  --if_simulation=1  &\n",
    "\n",
    "nohup python main_single.py --n_epoch=200 --model='AE-RNN' --h_dim=60  --dataset='industrobo' --logdir='08028_test_dt01_norm_sim_noclip_noG'  --mpnt_wt=-10  --do_test  --do_train --z_dim=12 --u_dim=6 --y_dim=6 --init_lr=1e-2 --dt=0.1  --if_simulation=1 --if_clip=0 --if_G=0 &\n",
    "nohup python main_single.py --n_epoch=500 --model='AE-RNN' --h_dim=60  --dataset='industrobo' --logdir='08028_test_dt01_norm_sim_noclip_noG'  --mpnt_wt=-1  --do_test  --do_train --z_dim=12 --u_dim=6 --y_dim=6 --init_lr=1e-2 --dt=0.1  --if_simulation=1 --if_clip=0 --if_G=0 &\n",
    "nohup python main_single.py --n_epoch=200 --model='AE-RNN' --h_dim=60  --dataset='industrobo' --logdir='08028_test_dt01_norm_sim_noclip_noG'  --mpnt_wt=10  --do_test  --do_train --z_dim=12 --u_dim=6 --y_dim=6 --init_lr=1e-2 --dt=0.1  --if_simulation=1 --if_clip=0 --if_G=0 &\n",
    "\n",
    "nohup python main_single.py --n_epoch=200 --model='AE-RNN' --h_dim=60  --dataset='industrobo' --logdir='08028_test_dt01_norm_sim_noclip_noG_puma'  --mpnt_wt=-10  --do_test  --do_train --z_dim=12 --u_dim=6 --y_dim=6 --init_lr=1e-2 --dt=0.1  --if_simulation=1 --if_clip=0 --if_G=0 --roboname \"Puma560\"  &\n",
    "nohup python main_single.py --n_epoch=500 --model='AE-RNN' --h_dim=60  --dataset='industrobo' --logdir='08028_test_dt01_norm_sim_noclip_noG_puma'  --mpnt_wt=-1  --do_test  --do_train --z_dim=12 --u_dim=6 --y_dim=6 --init_lr=1e-2 --dt=0.1  --if_simulation=1 --if_clip=0 --if_G=0 --roboname \"Puma560\"  &\n",
    "nohup python main_single.py --n_epoch=200 --model='AE-RNN' --h_dim=60  --dataset='industrobo' --logdir='08028_test_dt01_norm_sim_noclip_noG_puma'  --mpnt_wt=10  --do_test  --do_train --z_dim=12 --u_dim=6 --y_dim=6 --init_lr=1e-2 --dt=0.1  --if_simulation=1 --if_clip=0 --if_G=0 --roboname \"Puma560\"  &\n",
    "\n",
    "nohup python main_single.py --n_epoch=200 --model='AE-RNN' --h_dim=60  --dataset='industrobo' --logdir='08028_test_dt01_norm'  --mpnt_wt=-10  --do_test  --do_train --z_dim=12 --u_dim=6 --y_dim=6 --init_lr=1e-2 --dt=0.1   &\n",
    "nohup python main_single.py --n_epoch=500 --model='AE-RNN' --h_dim=60  --dataset='industrobo' --logdir='08028_test_dt01_norm'  --mpnt_wt=-1  --do_test  --do_train --z_dim=12 --u_dim=6 --y_dim=6 --init_lr=1e-2 --dt=0.1   &\n",
    "nohup python main_single.py --n_epoch=200 --model='AE-RNN' --h_dim=60  --dataset='industrobo' --logdir='08028_test_dt01_norm'  --mpnt_wt=10  --do_test  --do_train --z_dim=12 --u_dim=6 --y_dim=6 --init_lr=1e-2 --dt=0.1   &\n",
    "\n",
    "nohup python main_single.py --n_epoch=200 --model='AE-RNN' --h_dim=60  --dataset='industrobo' --logdir='08028_test_dt01_norm_noclip_noG'  --mpnt_wt=-10  --do_test  --do_train --z_dim=12 --u_dim=6 --y_dim=6 --init_lr=1e-2 --dt=0.1  --if_clip=0 --if_G=0 &\n",
    "nohup python main_single.py --n_epoch=500 --model='AE-RNN' --h_dim=60  --dataset='industrobo' --logdir='08028_test_dt01_norm_noclip_noG'  --mpnt_wt=-1  --do_test  --do_train --z_dim=12 --u_dim=6 --y_dim=6 --init_lr=1e-2 --dt=0.1  --if_clip=0 --if_G=0 &\n",
    "nohup python main_single.py --n_epoch=200 --model='AE-RNN' --h_dim=60  --dataset='industrobo' --logdir='08028_test_dt01_norm_noclip_noG'  --mpnt_wt=10  --do_test  --do_train --z_dim=12 --u_dim=6 --y_dim=6 --init_lr=1e-2 --dt=0.1  --if_clip=0 --if_G=0 &\n",
    "\n",
    "nohup python main_single.py --n_epoch=200 --model='AE-RNN' --h_dim=60  --dataset='industrobo' --logdir='08028_test_dt01_norm_noclip_noG_puma'  --mpnt_wt=-10  --do_test  --do_train --z_dim=12 --u_dim=6 --y_dim=6 --init_lr=1e-2 --dt=0.1  --if_clip=0 --if_G=0 --roboname \"Puma560\"  &\n",
    "nohup python main_single.py --n_epoch=500 --model='AE-RNN' --h_dim=60  --dataset='industrobo' --logdir='08028_test_dt01_norm_noclip_noG_puma'  --mpnt_wt=-1  --do_test  --do_train --z_dim=12 --u_dim=6 --y_dim=6 --init_lr=1e-2 --dt=0.1  --if_clip=0 --if_G=0 --roboname \"Puma560\"  &\n",
    "nohup python main_single.py --n_epoch=200 --model='AE-RNN' --h_dim=60  --dataset='industrobo' --logdir='08028_test_dt01_norm_noclip_noG_puma'  --mpnt_wt=10  --do_test  --do_train --z_dim=12 --u_dim=6 --y_dim=6 --init_lr=1e-2 --dt=0.1  --if_clip=0 --if_G=0 --roboname \"Puma560\"  &"
   ]
  },
  {
   "cell_type": "markdown",
   "metadata": {},
   "source": [
    "#### different training length\n",
    "##### 50%\n",
    "##### 20%\n",
    "##### 10%\n",
    "##### 5%"
   ]
  },
  {
   "cell_type": "code",
   "execution_count": null,
   "metadata": {
    "vscode": {
     "languageId": "bat"
    }
   },
   "outputs": [],
   "source": [
    "\n",
    "\n",
    "@REM 50%\n",
    "\n",
    "nohup python main_single.py --n_epoch=200 --model='AE-RNN' --h_dim=60  --dataset='industrobo' --logdir='08028_test_dt01_norm_sim_Len50pc_0'  --mpnt_wt=-10  --do_test  --do_train --z_dim=12 --u_dim=6 --y_dim=6 --init_lr=1e-2 --dt=0.1  --if_simulation=1  --k_max_train=0.50 &\n",
    "nohup python main_single.py --n_epoch=500 --model='AE-RNN' --h_dim=60  --dataset='industrobo' --logdir='08028_test_dt01_norm_sim_Len50pc_0'  --mpnt_wt=-1  --do_test  --do_train --z_dim=12 --u_dim=6 --y_dim=6 --init_lr=1e-2 --dt=0.1  --if_simulation=1  --k_max_train=0.50 &\n",
    "nohup python main_single.py --n_epoch=200 --model='AE-RNN' --h_dim=60  --dataset='industrobo' --logdir='08028_test_dt01_norm_sim_Len50pc_0'  --mpnt_wt=10  --do_test  --do_train --z_dim=12 --u_dim=6 --y_dim=6 --init_lr=1e-2 --dt=0.1  --if_simulation=1  --k_max_train=0.50 &\n",
    "\n",
    "\n",
    "nohup python main_single.py --n_epoch=200 --model='AE-RNN' --h_dim=60  --dataset='industrobo' --logdir='08028_test_dt01_norm_Len50pc_0'  --mpnt_wt=-10  --do_test  --do_train --z_dim=12 --u_dim=6 --y_dim=6 --init_lr=1e-2 --dt=0.1   --k_max_train=0.50 &\n",
    "nohup python main_single.py --n_epoch=500 --model='AE-RNN' --h_dim=60  --dataset='industrobo' --logdir='08028_test_dt01_norm_Len50pc_0'  --mpnt_wt=-1  --do_test  --do_train --z_dim=12 --u_dim=6 --y_dim=6 --init_lr=1e-2 --dt=0.1   --k_max_train=0.50 &\n",
    "nohup python main_single.py --n_epoch=200 --model='AE-RNN' --h_dim=60  --dataset='industrobo' --logdir='08028_test_dt01_norm_Len50pc_0'  --mpnt_wt=10  --do_test  --do_train --z_dim=12 --u_dim=6 --y_dim=6 --init_lr=1e-2 --dt=0.1   --k_max_train=0.50 &\n",
    "\n",
    "\n",
    "@REM 20%\n",
    "\n",
    "nohup python main_single.py --n_epoch=200 --model='AE-RNN' --h_dim=60  --dataset='industrobo' --logdir='08028_test_dt01_norm_sim_Len20pc_0'  --mpnt_wt=-10  --do_test  --do_train --z_dim=12 --u_dim=6 --y_dim=6 --init_lr=1e-2 --dt=0.1  --if_simulation=1  --k_max_train=0.20 &\n",
    "nohup python main_single.py --n_epoch=500 --model='AE-RNN' --h_dim=60  --dataset='industrobo' --logdir='08028_test_dt01_norm_sim_Len20pc_0'  --mpnt_wt=-1  --do_test  --do_train --z_dim=12 --u_dim=6 --y_dim=6 --init_lr=1e-2 --dt=0.1  --if_simulation=1  --k_max_train=0.20 &\n",
    "nohup python main_single.py --n_epoch=200 --model='AE-RNN' --h_dim=60  --dataset='industrobo' --logdir='08028_test_dt01_norm_sim_Len20pc_0'  --mpnt_wt=10  --do_test  --do_train --z_dim=12 --u_dim=6 --y_dim=6 --init_lr=1e-2 --dt=0.1  --if_simulation=1  --k_max_train=0.20 &\n",
    "\n",
    "\n",
    "nohup python main_single.py --n_epoch=200 --model='AE-RNN' --h_dim=60  --dataset='industrobo' --logdir='08028_test_dt01_norm_Len20pc_0'  --mpnt_wt=-10  --do_test  --do_train --z_dim=12 --u_dim=6 --y_dim=6 --init_lr=1e-2 --dt=0.1   --k_max_train=0.20 &\n",
    "nohup python main_single.py --n_epoch=500 --model='AE-RNN' --h_dim=60  --dataset='industrobo' --logdir='08028_test_dt01_norm_Len20pc_0'  --mpnt_wt=-1  --do_test  --do_train --z_dim=12 --u_dim=6 --y_dim=6 --init_lr=1e-2 --dt=0.1   --k_max_train=0.20 &\n",
    "nohup python main_single.py --n_epoch=200 --model='AE-RNN' --h_dim=60  --dataset='industrobo' --logdir='08028_test_dt01_norm_Len20pc_0'  --mpnt_wt=10  --do_test  --do_train --z_dim=12 --u_dim=6 --y_dim=6 --init_lr=1e-2 --dt=0.1   --k_max_train=0.20 &\n",
    "\n",
    "@REM 10%\n",
    "\n",
    "nohup python main_single.py --n_epoch=200 --model='AE-RNN' --h_dim=60  --dataset='industrobo' --logdir='08028_test_dt01_norm_sim_Len10pc_0'  --mpnt_wt=-10  --do_test  --do_train --z_dim=12 --u_dim=6 --y_dim=6 --init_lr=1e-2 --dt=0.1  --if_simulation=1  --k_max_train=0.10 &\n",
    "nohup python main_single.py --n_epoch=500 --model='AE-RNN' --h_dim=60  --dataset='industrobo' --logdir='08028_test_dt01_norm_sim_Len10pc_0'  --mpnt_wt=-1  --do_test  --do_train --z_dim=12 --u_dim=6 --y_dim=6 --init_lr=1e-2 --dt=0.1  --if_simulation=1  --k_max_train=0.10 &\n",
    "nohup python main_single.py --n_epoch=200 --model='AE-RNN' --h_dim=60  --dataset='industrobo' --logdir='08028_test_dt01_norm_sim_Len10pc_0'  --mpnt_wt=10  --do_test  --do_train --z_dim=12 --u_dim=6 --y_dim=6 --init_lr=1e-2 --dt=0.1  --if_simulation=1  --k_max_train=0.10 &\n",
    "\n",
    "\n",
    "nohup python main_single.py --n_epoch=200 --model='AE-RNN' --h_dim=60  --dataset='industrobo' --logdir='08028_test_dt01_norm_Len10pc_0'  --mpnt_wt=-10  --do_test  --do_train --z_dim=12 --u_dim=6 --y_dim=6 --init_lr=1e-2 --dt=0.1   --k_max_train=0.10 &\n",
    "nohup python main_single.py --n_epoch=500 --model='AE-RNN' --h_dim=60  --dataset='industrobo' --logdir='08028_test_dt01_norm_Len10pc_0'  --mpnt_wt=-1  --do_test  --do_train --z_dim=12 --u_dim=6 --y_dim=6 --init_lr=1e-2 --dt=0.1   --k_max_train=0.10 &\n",
    "nohup python main_single.py --n_epoch=200 --model='AE-RNN' --h_dim=60  --dataset='industrobo' --logdir='08028_test_dt01_norm_Len10pc_0'  --mpnt_wt=10  --do_test  --do_train --z_dim=12 --u_dim=6 --y_dim=6 --init_lr=1e-2 --dt=0.1   --k_max_train=0.10 &\n",
    "\n",
    "@REM 5%\n",
    "\n",
    "nohup python main_single.py --n_epoch=200 --model='AE-RNN' --h_dim=60  --dataset='industrobo' --logdir='08028_test_dt01_norm_sim_Len5pc_0'  --mpnt_wt=-10  --do_test  --do_train --z_dim=12 --u_dim=6 --y_dim=6 --init_lr=1e-2 --dt=0.1  --if_simulation=1  --k_max_train=0.05 &\n",
    "nohup python main_single.py --n_epoch=500 --model='AE-RNN' --h_dim=60  --dataset='industrobo' --logdir='08028_test_dt01_norm_sim_Len5pc_0'  --mpnt_wt=-1  --do_test  --do_train --z_dim=12 --u_dim=6 --y_dim=6 --init_lr=1e-2 --dt=0.1  --if_simulation=1  --k_max_train=0.05 &\n",
    "nohup python main_single.py --n_epoch=200 --model='AE-RNN' --h_dim=60  --dataset='industrobo' --logdir='08028_test_dt01_norm_sim_Len5pc_0'  --mpnt_wt=10  --do_test  --do_train --z_dim=12 --u_dim=6 --y_dim=6 --init_lr=1e-2 --dt=0.1  --if_simulation=1  --k_max_train=0.05 &\n",
    "\n",
    "\n",
    "nohup python main_single.py --n_epoch=200 --model='AE-RNN' --h_dim=60  --dataset='industrobo' --logdir='08028_test_dt01_norm_Len5pc_0'  --mpnt_wt=-10  --do_test  --do_train --z_dim=12 --u_dim=6 --y_dim=6 --init_lr=1e-2 --dt=0.1   --k_max_train=0.05 &\n",
    "nohup python main_single.py --n_epoch=500 --model='AE-RNN' --h_dim=60  --dataset='industrobo' --logdir='08028_test_dt01_norm_Len5pc_0'  --mpnt_wt=-1  --do_test  --do_train --z_dim=12 --u_dim=6 --y_dim=6 --init_lr=1e-2 --dt=0.1   --k_max_train=0.05 &\n",
    "nohup python main_single.py --n_epoch=200 --model='AE-RNN' --h_dim=60  --dataset='industrobo' --logdir='08028_test_dt01_norm_Len5pc_0'  --mpnt_wt=10  --do_test  --do_train --z_dim=12 --u_dim=6 --y_dim=6 --init_lr=1e-2 --dt=0.1   --k_max_train=0.05 &"
   ]
  }
 ],
 "metadata": {
  "kernelspec": {
   "display_name": "deepsys",
   "language": "python",
   "name": "python3"
  },
  "language_info": {
   "codemirror_mode": {
    "name": "ipython",
    "version": 3
   },
   "file_extension": ".py",
   "mimetype": "text/x-python",
   "name": "python",
   "nbconvert_exporter": "python",
   "pygments_lexer": "ipython3",
   "version": "3.11.3"
  }
 },
 "nbformat": 4,
 "nbformat_minor": 2
}
