{
 "cells": [
  {
   "cell_type": "markdown",
   "metadata": {},
   "source": [
    "#### read the output file\n"
   ]
  },
  {
   "cell_type": "markdown",
   "metadata": {},
   "source": [
    "- Load all the needed packages"
   ]
  },
  {
   "cell_type": "code",
   "execution_count": 11,
   "metadata": {},
   "outputs": [],
   "source": [
    "import os\n",
    "import pandas as pd\n",
    "import matplotlib\n",
    "import main_single\n",
    "from os.path import exists\n",
    "import argparse"
   ]
  },
  {
   "cell_type": "markdown",
   "metadata": {},
   "source": [
    "- generate the command runing the python script several times"
   ]
  },
  {
   "cell_type": "code",
   "execution_count": 60,
   "metadata": {},
   "outputs": [],
   "source": [
    "command = \"\"\n",
    "for model_name in [ 'VRNN-Gauss', 'VRNN-Gauss-I', 'VRNN-GMM', 'VRNN-GMM-I', 'STORN']:\n",
    "    for known_parameter in ['None', 'B']:\n",
    "        command += \"python main_single.py --model \\\"{}\\\" --known_parameter \\\"{}\\\"\\n\".format(model_name, known_parameter)\n",
    "        \n",
    "myBat = open(r'sameinput_multi.bat','w+')\n",
    "myBat.write(command)\n",
    "myBat.close()\n"
   ]
  },
  {
   "cell_type": "code",
   "execution_count": null,
   "metadata": {},
   "outputs": [],
   "source": [
    "def generate_output_RMSE_log(path, options):\n",
    "    \n",
    "\n",
    "\n",
    "def read_single_output_RMSE_log(path_general, options):\n",
    "    path_RMSE_log = path_general+\"RSME.csv\"\n",
    "    if exists(path_RMSE_log):\n",
    "        RMSE_log = pd.read_csv(path_RMSE_log)\n",
    "    else:\n",
    "        generate_output_RMSE_log(path_general,options)\n",
    "        \n",
    "def get_more_test(options, path_general, file_name_general):\n",
    "    available_RMSE = read_single_output_RMSE_log(path_general)"
   ]
  },
  {
   "cell_type": "code",
   "execution_count": null,
   "metadata": {},
   "outputs": [],
   "source": [
    "\n",
    "    "
   ]
  },
  {
   "cell_type": "code",
   "execution_count": 9,
   "metadata": {},
   "outputs": [
    {
     "name": "stdout",
     "output_type": "stream",
     "text": [
      "Run file: main_single.py\n",
      "Fri Aug 18 16:32:49 2023\n",
      "Device: cpu\n",
      "\n",
      "\tModel Type: VRNN-Gauss-I\n",
      "\tDynamic System: toy_lgssm\n",
      "\n",
      "Model parameters: 90242\n",
      "Marginal Likelihood / point = -1.806\n",
      "VAF = 66.451%\n",
      "RMSE y1 = 1.451\n",
      "Total ime of file execution: 0.0: 0:11 [h:min:sec]\n",
      "Fri Aug 18 16:33:00 2023\n"
     ]
    },
    {
     "name": "stderr",
     "output_type": "stream",
     "text": [
      "c:\\Users\\ruiyuanli\\OneDrive - Delft University of Technology\\work\\github\\DeepSSM_SysID\\main_single.py:145: FutureWarning: The frame.append method is deprecated and will be removed from pandas in a future version. Use pandas.concat instead.\n",
      "  df = df_old.append(df)\n"
     ]
    },
    {
     "name": "stdout",
     "output_type": "stream",
     "text": [
      "Run file: main_single.py\n",
      "Fri Aug 18 16:33:02 2023\n",
      "Device: cpu\n",
      "\n",
      "\tModel Type: VRNN-Gauss-I\n",
      "\tDynamic System: toy_lgssm\n",
      "\n",
      "Model parameters: 90242\n",
      "Marginal Likelihood / point = -1.815\n",
      "VAF = 66.404%\n",
      "RMSE y1 = 1.463\n",
      "Total ime of file execution: 0.0: 0:10 [h:min:sec]\n",
      "Fri Aug 18 16:33:12 2023\n"
     ]
    },
    {
     "name": "stderr",
     "output_type": "stream",
     "text": [
      "c:\\Users\\ruiyuanli\\OneDrive - Delft University of Technology\\work\\github\\DeepSSM_SysID\\main_single.py:145: FutureWarning: The frame.append method is deprecated and will be removed from pandas in a future version. Use pandas.concat instead.\n",
      "  df = df_old.append(df)\n"
     ]
    },
    {
     "name": "stdout",
     "output_type": "stream",
     "text": [
      "Run file: main_single.py\n",
      "Fri Aug 18 16:33:15 2023\n",
      "Device: cpu\n",
      "\n",
      "\tModel Type: VRNN-Gauss-I\n",
      "\tDynamic System: toy_lgssm\n",
      "\n",
      "Model parameters: 90242\n",
      "Marginal Likelihood / point = -1.813\n",
      "VAF = 66.039%\n",
      "RMSE y1 = 1.462\n",
      "Total ime of file execution: 0.0: 0:10 [h:min:sec]\n",
      "Fri Aug 18 16:33:25 2023\n"
     ]
    },
    {
     "name": "stderr",
     "output_type": "stream",
     "text": [
      "c:\\Users\\ruiyuanli\\OneDrive - Delft University of Technology\\work\\github\\DeepSSM_SysID\\main_single.py:145: FutureWarning: The frame.append method is deprecated and will be removed from pandas in a future version. Use pandas.concat instead.\n",
      "  df = df_old.append(df)\n"
     ]
    },
    {
     "name": "stdout",
     "output_type": "stream",
     "text": [
      "Run file: main_single.py\n",
      "Fri Aug 18 16:33:27 2023\n",
      "Device: cpu\n",
      "\n",
      "\tModel Type: VRNN-Gauss-I\n",
      "\tDynamic System: toy_lgssm\n",
      "\n",
      "Model parameters: 90242\n",
      "Marginal Likelihood / point = -1.807\n",
      "VAF = 66.332%\n",
      "RMSE y1 = 1.456\n",
      "Total ime of file execution: 0.0: 0:10 [h:min:sec]\n",
      "Fri Aug 18 16:33:38 2023\n"
     ]
    },
    {
     "name": "stderr",
     "output_type": "stream",
     "text": [
      "c:\\Users\\ruiyuanli\\OneDrive - Delft University of Technology\\work\\github\\DeepSSM_SysID\\main_single.py:145: FutureWarning: The frame.append method is deprecated and will be removed from pandas in a future version. Use pandas.concat instead.\n",
      "  df = df_old.append(df)\n"
     ]
    },
    {
     "name": "stdout",
     "output_type": "stream",
     "text": [
      "Run file: main_single.py\n",
      "Fri Aug 18 16:33:40 2023\n",
      "Device: cpu\n",
      "\n",
      "\tModel Type: VRNN-Gauss-I\n",
      "\tDynamic System: toy_lgssm\n",
      "\n",
      "Model parameters: 90242\n",
      "Marginal Likelihood / point = -1.809\n",
      "VAF = 66.807%\n",
      "RMSE y1 = 1.457\n",
      "Total ime of file execution: 0.0: 0:11 [h:min:sec]\n",
      "Fri Aug 18 16:33:51 2023\n"
     ]
    },
    {
     "name": "stderr",
     "output_type": "stream",
     "text": [
      "c:\\Users\\ruiyuanli\\OneDrive - Delft University of Technology\\work\\github\\DeepSSM_SysID\\main_single.py:145: FutureWarning: The frame.append method is deprecated and will be removed from pandas in a future version. Use pandas.concat instead.\n",
      "  df = df_old.append(df)\n"
     ]
    },
    {
     "name": "stdout",
     "output_type": "stream",
     "text": [
      "Run file: main_single.py\n",
      "Fri Aug 18 16:33:53 2023\n",
      "Device: cpu\n",
      "\n",
      "\tModel Type: VRNN-Gauss-I\n",
      "\tDynamic System: toy_lgssm\n",
      "\n",
      "Model parameters: 90242\n",
      "Marginal Likelihood / point = -1.813\n",
      "VAF = 66.124%\n",
      "RMSE y1 = 1.461\n",
      "Total ime of file execution: 0.0: 0:11 [h:min:sec]\n",
      "Fri Aug 18 16:34:05 2023\n"
     ]
    },
    {
     "name": "stderr",
     "output_type": "stream",
     "text": [
      "c:\\Users\\ruiyuanli\\OneDrive - Delft University of Technology\\work\\github\\DeepSSM_SysID\\main_single.py:145: FutureWarning: The frame.append method is deprecated and will be removed from pandas in a future version. Use pandas.concat instead.\n",
      "  df = df_old.append(df)\n"
     ]
    },
    {
     "name": "stdout",
     "output_type": "stream",
     "text": [
      "Run file: main_single.py\n",
      "Fri Aug 18 16:34:07 2023\n",
      "Device: cpu\n",
      "\n",
      "\tModel Type: VRNN-Gauss-I\n",
      "\tDynamic System: toy_lgssm\n",
      "\n",
      "Model parameters: 90242\n",
      "Marginal Likelihood / point = -1.827\n",
      "VAF = 65.408%\n",
      "RMSE y1 = 1.482\n",
      "Total ime of file execution: 0.0: 0:11 [h:min:sec]\n",
      "Fri Aug 18 16:34:18 2023\n"
     ]
    },
    {
     "name": "stderr",
     "output_type": "stream",
     "text": [
      "c:\\Users\\ruiyuanli\\OneDrive - Delft University of Technology\\work\\github\\DeepSSM_SysID\\main_single.py:145: FutureWarning: The frame.append method is deprecated and will be removed from pandas in a future version. Use pandas.concat instead.\n",
      "  df = df_old.append(df)\n"
     ]
    },
    {
     "name": "stdout",
     "output_type": "stream",
     "text": [
      "Run file: main_single.py\n",
      "Fri Aug 18 16:34:20 2023\n",
      "Device: cpu\n",
      "\n",
      "\tModel Type: VRNN-Gauss-I\n",
      "\tDynamic System: toy_lgssm\n",
      "\n",
      "Model parameters: 90242\n",
      "Marginal Likelihood / point = -1.801\n",
      "VAF = 66.836%\n",
      "RMSE y1 = 1.450\n",
      "Total ime of file execution: 0.0: 0:11 [h:min:sec]\n",
      "Fri Aug 18 16:34:31 2023\n"
     ]
    },
    {
     "name": "stderr",
     "output_type": "stream",
     "text": [
      "c:\\Users\\ruiyuanli\\OneDrive - Delft University of Technology\\work\\github\\DeepSSM_SysID\\main_single.py:145: FutureWarning: The frame.append method is deprecated and will be removed from pandas in a future version. Use pandas.concat instead.\n",
      "  df = df_old.append(df)\n"
     ]
    },
    {
     "name": "stdout",
     "output_type": "stream",
     "text": [
      "Run file: main_single.py\n",
      "Fri Aug 18 16:34:34 2023\n",
      "Device: cpu\n",
      "\n",
      "\tModel Type: VRNN-Gauss-I\n",
      "\tDynamic System: toy_lgssm\n",
      "\n",
      "Model parameters: 90242\n",
      "Marginal Likelihood / point = -1.827\n",
      "VAF = 65.773%\n",
      "RMSE y1 = 1.478\n",
      "Total ime of file execution: 0.0: 0:12 [h:min:sec]\n",
      "Fri Aug 18 16:34:46 2023\n"
     ]
    },
    {
     "name": "stderr",
     "output_type": "stream",
     "text": [
      "c:\\Users\\ruiyuanli\\OneDrive - Delft University of Technology\\work\\github\\DeepSSM_SysID\\main_single.py:145: FutureWarning: The frame.append method is deprecated and will be removed from pandas in a future version. Use pandas.concat instead.\n",
      "  df = df_old.append(df)\n"
     ]
    }
   ],
   "source": [
    "!python main_single.py\n",
    "!python main_single.py\n",
    "!python main_single.py\n",
    "!python main_single.py\n",
    "!python main_single.py\n",
    "!python main_single.py\n",
    "!python main_single.py\n",
    "!python main_single.py\n",
    "!python main_single.py"
   ]
  },
  {
   "cell_type": "code",
   "execution_count": 54,
   "metadata": {},
   "outputs": [],
   "source": [
    "# this is udes to generate and same an identical training dataset, in case the different models are generated on the different dataset making it impossible to compare\n",
    "\n",
    "import data.toy_lgssm as datalgssm\n",
    "import numpy as np\n",
    "\n",
    "def create_input_data():\n",
    "    # state space matrices\n",
    "    A = np.array([[0.7, 0.8], [0, 0.1]])\n",
    "    B = np.array([[-1], [0.1]])\n",
    "    C = np.array([[1], [0]]).transpose()\n",
    "    # define noise\n",
    "    sigma_state = np.sqrt(0.25)\n",
    "    sigma_out = np.sqrt(1)\n",
    "    \n",
    "    # set the input dataset size\n",
    "    k_train_size = 5000\n",
    "    k_val_size = 5000 \n",
    "    \n",
    "    u_train = (np.random.rand(1, k_train_size) - 0.5) * 5\n",
    "    u_val = (np.random.rand(1, k_val_size) - 0.5) * 5\n",
    "    \n",
    "    train_file_path = 'data/Toy_LGSSM/toy_lgssm_traindata'\n",
    "    val_file_path = 'data/Toy_LGSSM/toy_lgssm_valdata'\n",
    "    \n",
    "    # get the outputs\n",
    "    y_train = datalgssm.run_toy_lgssm_sim(u_train, A, B, C, sigma_state, 0) + sigma_out * np.random.randn(1, k_train_size)\n",
    "    y_val = datalgssm.run_toy_lgssm_sim(u_val, A, B, C, sigma_state, 0) + sigma_out * np.random.randn(1, k_val_size)\n",
    "    \n",
    "    \n",
    "    np.savez(train_file_path+\".npz\", u_train = u_train, y_train = y_train)\n",
    "    np.savez(val_file_path+\".npz\", u_val=u_val, y_val=y_val)\n",
    "    \n",
    "    "
   ]
  },
  {
   "cell_type": "code",
   "execution_count": 55,
   "metadata": {},
   "outputs": [],
   "source": [
    "create_input_data()"
   ]
  },
  {
   "cell_type": "code",
   "execution_count": 56,
   "metadata": {},
   "outputs": [],
   "source": [
    "\n",
    "  git config --global user.email \"zoeli1999@163.com\"\n",
    "  git config --global user.name \"yifang0-0\""
   ]
  }
 ],
 "metadata": {
  "kernelspec": {
   "display_name": "Python 3",
   "language": "python",
   "name": "python3"
  },
  "language_info": {
   "codemirror_mode": {
    "name": "ipython",
    "version": 3
   },
   "file_extension": ".py",
   "mimetype": "text/x-python",
   "name": "python",
   "nbconvert_exporter": "python",
   "pygments_lexer": "ipython3",
   "version": "3.11.3"
  },
  "orig_nbformat": 4
 },
 "nbformat": 4,
 "nbformat_minor": 2
}
