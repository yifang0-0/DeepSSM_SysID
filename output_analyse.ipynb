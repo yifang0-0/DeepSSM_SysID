{
 "cells": [
  {
   "cell_type": "markdown",
   "metadata": {},
   "source": [
    "#### read the output file\n"
   ]
  },
  {
   "cell_type": "markdown",
   "metadata": {},
   "source": [
    "- Load all the needed packages"
   ]
  },
  {
   "cell_type": "code",
   "execution_count": 2,
   "metadata": {},
   "outputs": [],
   "source": [
    "import os\n",
    "import pandas as pd\n",
    "import matplotlib\n",
    "import main_single\n",
    "from os.path import exists\n",
    "import argparse\n",
    "import matplotlib.pyplot as plt"
   ]
  },
  {
   "cell_type": "markdown",
   "metadata": {},
   "source": [
    "- generate the command runing the python script several times"
   ]
  },
  {
   "cell_type": "code",
   "execution_count": 60,
   "metadata": {},
   "outputs": [],
   "source": [
    "command = \"\"\n",
    "for model_name in [ 'VRNN-Gauss', 'VRNN-Gauss-I', 'VRNN-GMM', 'VRNN-GMM-I', 'STORN']:\n",
    "    for known_parameter in ['None', 'B']:\n",
    "        command += \"python main_single.py --model \\\"{}\\\" --known_parameter \\\"{}\\\"\\n\".format(model_name, known_parameter)\n",
    "        \n",
    "myBat = open(r'sameinput_multi.bat','w+')\n",
    "myBat.write(command)\n",
    "myBat.close()\n"
   ]
  },
  {
   "cell_type": "code",
   "execution_count": null,
   "metadata": {},
   "outputs": [],
   "source": [
    "\n",
    "\n",
    "def read_single_output_RMSE_log(path_general, options):\n",
    "    path_RMSE_log = path_general+\"RSME.csv\"\n",
    "    if exists(path_RMSE_log):\n",
    "        RMSE_log = pd.read_csv(path_RMSE_log)\n",
    "    else:                                \n",
    "        generate_output_RMSE_log(path_general,options)\n",
    "        \n",
    "def get_more_test(options, path_general, file_name_general):\n",
    "    available_RMSE = read_single_output_RMSE_log(path_general)"
   ]
  },
  {
   "cell_type": "code",
   "execution_count": 54,
   "metadata": {},
   "outputs": [],
   "source": [
    "# this is udes to generate and same an identical training dataset, in case the different models are generated on the different dataset making it impossible to compare\n",
    "\n",
    "import data.toy_lgssm as datalgssm\n",
    "import numpy as np\n",
    "\n",
    "def create_input_data():\n",
    "    # state space matrices\n",
    "    A = np.array([[0.7, 0.8], [0, 0.1]])\n",
    "    B = np.array([[-1], [0.1]])\n",
    "    C = np.array([[1], [0]]).transpose()\n",
    "    # define noise\n",
    "    sigma_state = np.sqrt(0.25)\n",
    "    sigma_out = np.sqrt(1)\n",
    "    \n",
    "    # set the input dataset size\n",
    "    k_train_size = 5000\n",
    "    k_val_size = 5000 \n",
    "    \n",
    "    u_train = (np.random.rand(1, k_train_size) - 0.5) * 5\n",
    "    u_val = (np.random.rand(1, k_val_size) - 0.5) * 5\n",
    "    \n",
    "    train_file_path = 'data/Toy_LGSSM/toy_lgssm_traindata'\n",
    "    val_file_path = 'data/Toy_LGSSM/toy_lgssm_valdata'\n",
    "    \n",
    "    # get the outputs\n",
    "    y_train = datalgssm.run_toy_lgssm_sim(u_train, A, B, C, sigma_state, 0) + sigma_out * np.random.randn(1, k_train_size)\n",
    "    y_val = datalgssm.run_toy_lgssm_sim(u_val, A, B, C, sigma_state, 0) + sigma_out * np.random.randn(1, k_val_size)\n",
    "    \n",
    "    \n",
    "    np.savez(train_file_path+\".npz\", u_train = u_train, y_train = y_train)\n",
    "    np.savez(val_file_path+\".npz\", u_val=u_val, y_val=y_val)\n",
    "    \n",
    "    "
   ]
  },
  {
   "cell_type": "markdown",
   "metadata": {},
   "source": [
    "- read from csv file and plot the result?"
   ]
  },
  {
   "cell_type": "code",
   "execution_count": 3,
   "metadata": {},
   "outputs": [
    {
     "name": "stdout",
     "output_type": "stream",
     "text": [
      "['C:/Users/ruiyuanli/OneDrive - Delft University of Technology/work/github/DeepSSM_SysID/log/same_dataset/toy_lgssm/STORN_B/data/toy_lgssm_h70_z5_n1.csv', 'C:/Users/ruiyuanli/OneDrive - Delft University of Technology/work/github/DeepSSM_SysID/log/same_dataset/toy_lgssm/STORN_None/data/toy_lgssm_h70_z5_n1.csv', 'C:/Users/ruiyuanli/OneDrive - Delft University of Technology/work/github/DeepSSM_SysID/log/same_dataset/toy_lgssm/VAE-RNN_B/data/toy_lgssm_h70_z5_n1.csv', 'C:/Users/ruiyuanli/OneDrive - Delft University of Technology/work/github/DeepSSM_SysID/log/same_dataset/toy_lgssm/VAE-RNN_None/data/toy_lgssm_h70_z5_n1.csv', 'C:/Users/ruiyuanli/OneDrive - Delft University of Technology/work/github/DeepSSM_SysID/log/same_dataset/toy_lgssm/VRNN-Gauss-I_B/data/toy_lgssm_h70_z5_n1.csv', 'C:/Users/ruiyuanli/OneDrive - Delft University of Technology/work/github/DeepSSM_SysID/log/same_dataset/toy_lgssm/VRNN-Gauss-I_None/data/toy_lgssm_h70_z5_n1.csv', 'C:/Users/ruiyuanli/OneDrive - Delft University of Technology/work/github/DeepSSM_SysID/log/same_dataset/toy_lgssm/VRNN-Gauss_B/data/toy_lgssm_h70_z5_n1.csv', 'C:/Users/ruiyuanli/OneDrive - Delft University of Technology/work/github/DeepSSM_SysID/log/same_dataset/toy_lgssm/VRNN-Gauss_None/data/toy_lgssm_h70_z5_n1.csv', 'C:/Users/ruiyuanli/OneDrive - Delft University of Technology/work/github/DeepSSM_SysID/log/same_dataset/toy_lgssm/VRNN-GMM-I_B/data/toy_lgssm_h70_z5_n1.csv', 'C:/Users/ruiyuanli/OneDrive - Delft University of Technology/work/github/DeepSSM_SysID/log/same_dataset/toy_lgssm/VRNN-GMM-I_None/data/toy_lgssm_h70_z5_n1.csv', 'C:/Users/ruiyuanli/OneDrive - Delft University of Technology/work/github/DeepSSM_SysID/log/same_dataset/toy_lgssm/VRNN-GMM_B/data/toy_lgssm_h70_z5_n1.csv', 'C:/Users/ruiyuanli/OneDrive - Delft University of Technology/work/github/DeepSSM_SysID/log/same_dataset/toy_lgssm/VRNN-GMM_None/data/toy_lgssm_h70_z5_n1.csv']\n"
     ]
    }
   ],
   "source": [
    "# set the path\n",
    "model_path = \"C:/Users/ruiyuanli/OneDrive - Delft University of Technology/work/github/DeepSSM_SysID/log/same_dataset/toy_lgssm/\"\n",
    "\n",
    "# generate the list of trained models\n",
    "output_files = []\n",
    "model_type = os.listdir(model_path) \n",
    "for name in model_type:     \n",
    "    data_path = (model_path+name+\"/data/\")\n",
    "    all_files = os.listdir(data_path)   \n",
    "    output_files.append(data_path +  list(filter(lambda f: f.endswith('.csv'), all_files))[0])\n",
    "    \n",
    "print(output_files)\n",
    "    "
   ]
  },
  {
   "cell_type": "code",
   "execution_count": 4,
   "metadata": {},
   "outputs": [],
   "source": [
    "rmse_lgssm = {}\n",
    "for i in range(len(output_files)):\n",
    "    df = pd.read_csv(output_files[i])\n",
    "    rmse_lgssm[model_type[i]] = df[\"rmse\"].mean()"
   ]
  },
  {
   "cell_type": "code",
   "execution_count": 7,
   "metadata": {},
   "outputs": [],
   "source": [
    "sorted_rmse_lgssm={k: v for k, v in sorted(rmse_lgssm.items(), key=lambda item: item[1])}"
   ]
  },
  {
   "cell_type": "code",
   "execution_count": 10,
   "metadata": {},
   "outputs": [
    {
     "data": {
      "image/png": "[encoded data removed]",
      "text/plain": [
       "<Figure size 640x480 with 1 Axes>"
      ]
     },
     "metadata": {},
     "output_type": "display_data"
    }
   ],
   "source": [
    "\n",
    "fig, ax = plt.subplots()\n",
    "\n",
    "colors = []\n",
    "for m in list(sorted_rmse_lgssm.keys()):\n",
    "    if m.endswith('B'):\n",
    "        colors.append(\"burlywood\")\n",
    "    else:\n",
    "        colors.append(\"darkorange\")\n",
    "ax.bar(list(sorted_rmse_lgssm.keys()), list(sorted_rmse_lgssm.values()),color = colors)\n",
    "fig.autofmt_xdate()\n",
    "plt.show()"
   ]
  },
  {
   "cell_type": "code",
   "execution_count": 11,
   "metadata": {},
   "outputs": [
    {
     "data": {
      "text/plain": [
       "{'STORN_B': 1.417777566799685,\n",
       " 'VRNN-Gauss-I_B': 1.4184243742487046,\n",
       " 'STORN_None': 1.4284650262451115,\n",
       " 'VRNN-Gauss-I_None': 1.4354421230155947,\n",
       " 'VRNN-GMM-I_None': 1.4358903661142595,\n",
       " 'VRNN-Gauss_B': 1.440856602479148,\n",
       " 'VRNN-Gauss_None': 1.4772195167213509,\n",
       " 'VAE-RNN_B': 1.5182364095940102,\n",
       " 'VRNN-GMM_None': 1.5364218053458618,\n",
       " 'VRNN-GMM_B': 1.5670340977099584,\n",
       " 'VRNN-GMM-I_B': 2.5152034437291935,\n",
       " 'VAE-RNN_None': 2.524048793699276}"
      ]
     },
     "execution_count": 11,
     "metadata": {},
     "output_type": "execute_result"
    }
   ],
   "source": [
    "sorted_rmse_lgssm"
   ]
  },
  {
   "cell_type": "code",
   "execution_count": null,
   "metadata": {},
   "outputs": [],
   "source": []
  }
 ],
 "metadata": {
  "kernelspec": {
   "display_name": "Python 3",
   "language": "python",
   "name": "python3"
  },
  "language_info": {
   "codemirror_mode": {
    "name": "ipython",
    "version": 3
   },
   "file_extension": ".py",
   "mimetype": "text/x-python",
   "name": "python",
   "nbconvert_exporter": "python",
   "pygments_lexer": "ipython3",
   "version": "3.11.3"
  },
  "orig_nbformat": 4
 },
 "nbformat": 4,
 "nbformat_minor": 2
}
